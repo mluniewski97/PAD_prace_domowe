{
 "cells": [
  {
   "cell_type": "code",
   "execution_count": 9,
   "metadata": {},
   "outputs": [],
   "source": [
    "class Animal():\n",
    "    def __init__ (self, genus, isAlive = True, gender = \"Female\"):\n",
    "        self.gender = gender\n",
    "        self.isAlive = isAlive\n",
    "        self.genus = genus\n",
    "    \n",
    "    def breed(self, partner):\n",
    "        try:\n",
    "            if(self.gender == \"Female\" and partner.gender == \"Male\" and self.genus == partner.genus):\n",
    "                new_animal = type(self)()\n",
    "                import random\n",
    "                if(random.randint(0,1) == 1):\n",
    "                    new_animal.gender = \"Male\"\n",
    "                return new_animal\n",
    "        except:\n",
    "            print(\"Attribute not found\")"
   ]
  },
  {
   "cell_type": "code",
   "execution_count": 3,
   "metadata": {},
   "outputs": [],
   "source": [
    "class Cat(Animal):\n",
    "    def __init__ (self):\n",
    "        super().__init__(genus=\"Felis\")\n",
    "\n",
    "    def purr(self):\n",
    "        return \"purr\""
   ]
  },
  {
   "cell_type": "code",
   "execution_count": 4,
   "metadata": {},
   "outputs": [],
   "source": [
    "class Dog(Animal):\n",
    "    def __init__(self):\n",
    "        super().__init__(genus=\"Canis\")\n",
    "    \n",
    "    def woof(self):\n",
    "        return \"woof woof\""
   ]
  },
  {
   "cell_type": "code",
   "execution_count": 11,
   "metadata": {},
   "outputs": [
    {
     "name": "stdout",
     "output_type": "stream",
     "text": [
      "purr\n",
      "Attribute not found\n",
      "woof woof\n",
      "Attribute not found\n"
     ]
    }
   ],
   "source": [
    "cat1 = Cat()\n",
    "cat2 = Cat()\n",
    "cat2.gender = \"Male\"\n",
    "\n",
    "new_cat = cat1.breed(cat2)\n",
    "print(new_cat.purr())\n",
    "not_existing_cat = cat1.breed(0)\n",
    "\n",
    "dog1 = Dog()\n",
    "dog2 = Dog()\n",
    "dog2.gender = \"Male\"\n",
    "\n",
    "new_dog = dog1.breed(dog2)\n",
    "print(new_dog.woof())\n",
    "not_existing_dog = dog1.breed(0)"
   ]
  }
 ],
 "metadata": {
  "interpreter": {
   "hash": "aee8b7b246df8f9039afb4144a1f6fd8d2ca17a180786b69acc140d282b71a49"
  },
  "kernelspec": {
   "display_name": "Python 3.9.10 64-bit",
   "language": "python",
   "name": "python3"
  },
  "language_info": {
   "codemirror_mode": {
    "name": "ipython",
    "version": 3
   },
   "file_extension": ".py",
   "mimetype": "text/x-python",
   "name": "python",
   "nbconvert_exporter": "python",
   "pygments_lexer": "ipython3",
   "version": "3.9.10"
  },
  "orig_nbformat": 4
 },
 "nbformat": 4,
 "nbformat_minor": 2
}
