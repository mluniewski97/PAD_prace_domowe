{
 "cells": [
  {
   "cell_type": "code",
   "execution_count": 1,
   "metadata": {},
   "outputs": [],
   "source": [
    "class Worker():\n",
    "    def __init__(self, number, name, age, salary):\n",
    "        self.number = number\n",
    "        self.name = name\n",
    "        self.age = age\n",
    "        self.salary = salary "
   ]
  },
  {
   "cell_type": "code",
   "execution_count": 2,
   "metadata": {},
   "outputs": [],
   "source": [
    "workers = []\n",
    "\n",
    "workers.append(Worker(1, \"Adam\", 1983, 1500))\n",
    "workers.append(Worker(2, \"Anna\", 1981, 1700))\n",
    "workers.append(Worker(3, \"Błażej\", 1990, 1800))\n",
    "workers.append(Worker(4, \"Beata\", 1992, 1600))\n",
    "workers.append(Worker(5, \"Czesław\", 1980, 2000))\n",
    "workers.append(Worker(6, \"Cecylia\", 1983, 2100))\n",
    "workers.append(Worker(7, \"Daniel\", 1976, 1900))"
   ]
  },
  {
   "cell_type": "code",
   "execution_count": 14,
   "metadata": {},
   "outputs": [],
   "source": [
    "def AvarageSalary():\n",
    "    avarage_salary = 0\n",
    "    for worker in workers:\n",
    "        avarage_salary += worker.salary\n",
    "    avarage_salary = avarage_salary / len(workers)\n",
    "    return avarage_salary"
   ]
  },
  {
   "cell_type": "code",
   "execution_count": 15,
   "metadata": {},
   "outputs": [
    {
     "name": "stdout",
     "output_type": "stream",
     "text": [
      "1800.0\n"
     ]
    }
   ],
   "source": [
    "print(AvarageSalary())"
   ]
  },
  {
   "cell_type": "code",
   "execution_count": 24,
   "metadata": {},
   "outputs": [],
   "source": [
    "def CompareSalary(age_to_compare):\n",
    "    import datetime\n",
    "    today = datetime.datetime.now()\n",
    "    salary_over_30 = 0\n",
    "    salary_under_30 = 0\n",
    "    people_over_30 = 0\n",
    "    people_under_30 = 0\n",
    "\n",
    "    for worker in workers:\n",
    "        age = today.year - worker.age\n",
    "        if (age > age_to_compare):\n",
    "            people_over_30 += 1\n",
    "            salary_over_30 += worker.salary\n",
    "        else:\n",
    "            people_under_30 += 1\n",
    "            salary_under_30 += worker.salary\n",
    "    if(people_under_30 == 0 or people_over_30 == 0):\n",
    "        print(\"There is noone in this group\")\n",
    "    else:\n",
    "        avarage_salary_older_age = salary_over_30 / people_over_30\n",
    "        avarage_salary_younger_equal_age = salary_under_30/ people_under_30\n",
    "        print(\"People under {0} or equal have salary {1} on average. People older than {0} have salary {2} on average.\".format(age_to_compare, round(avarage_salary_younger_equal_age, 2), round(avarage_salary_older_age, 2)))"
   ]
  },
  {
   "cell_type": "code",
   "execution_count": 25,
   "metadata": {},
   "outputs": [
    {
     "name": "stdout",
     "output_type": "stream",
     "text": [
      "People under 30 or equal have salary 1600.0 on average. People older than 30 have salary 1833.33 on average.\n"
     ]
    }
   ],
   "source": [
    "CompareSalary(30)"
   ]
  }
 ],
 "metadata": {
  "interpreter": {
   "hash": "aee8b7b246df8f9039afb4144a1f6fd8d2ca17a180786b69acc140d282b71a49"
  },
  "kernelspec": {
   "display_name": "Python 3.9.10 64-bit",
   "language": "python",
   "name": "python3"
  },
  "language_info": {
   "codemirror_mode": {
    "name": "ipython",
    "version": 3
   },
   "file_extension": ".py",
   "mimetype": "text/x-python",
   "name": "python",
   "nbconvert_exporter": "python",
   "pygments_lexer": "ipython3",
   "version": "3.9.10"
  },
  "orig_nbformat": 4
 },
 "nbformat": 4,
 "nbformat_minor": 2
}
